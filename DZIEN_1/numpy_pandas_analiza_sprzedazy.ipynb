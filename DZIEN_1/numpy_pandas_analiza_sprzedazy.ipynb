{
 "cells":[
  {
   "cell_type":"markdown",
   "source":[
    "# Start Projektu: Numpy, Pandas"
   ],
   "attachments":{},
   "metadata":{
    "datalore":{
     "node_id":"0dfixRaEXCgxdrzaMx9A6a",
     "type":"MD",
     "hide_input_from_viewers":true,
     "hide_output_from_viewers":true
    }
   }
  },
  {
   "cell_type":"code",
   "source":[
    "import numpy as np\n",
    "import pandas as pd"
   ],
   "execution_count":1,
   "outputs":[],
   "metadata":{
    "datalore":{
     "node_id":"hLjCrYPH75Bt6b0KSnXD0p",
     "type":"CODE",
     "hide_input_from_viewers":true,
     "hide_output_from_viewers":true
    }
   }
  },
  {
   "cell_type":"code",
   "source":[
    "#tworzenie danych syntetycznych\n",
    "np.random.seed(42)\n",
    "num_rows = 5000"
   ],
   "execution_count":2,
   "outputs":[],
   "metadata":{
    "datalore":{
     "node_id":"KJhXCM8JB8FDwfojWaA2Mw",
     "type":"CODE",
     "hide_input_from_viewers":true,
     "hide_output_from_viewers":true
    }
   }
  },
  {
   "cell_type":"code",
   "source":[
    "data = {\n",
    "    \"OrderID\":np.arange(1,num_rows+1),\n",
    "    \"CustomerID\":np.random.randint(1000,6000,size=num_rows),\n",
    "    \"Amount\":np.round(np.random.normal(200,50,size=num_rows)),\n",
    "    \"Region\":np.random.choice([\"North\",\"South\",\"East\",\"West\"],size=num_rows),\n",
    "    \"Returned\":np.random.choice([True,False],size=num_rows,p=[0.1,0.9])\n",
    "}"
   ],
   "execution_count":3,
   "outputs":[],
   "metadata":{
    "datalore":{
     "node_id":"ZLEYpZNeRgV4tQnNZxO50x",
     "type":"CODE",
     "hide_input_from_viewers":true,
     "hide_output_from_viewers":true
    }
   }
  },
  {
   "cell_type":"code",
   "source":[
    "#utworzenie Ramki - DataFrame(pandas)\n",
    "df = pd.DataFrame(data)\n",
    "df.head(12)"
   ],
   "execution_count":5,
   "outputs":[
    {
     "data":{
      "text\/html":[
       "<div>\n",
       "<style scoped>\n",
       "    .dataframe tbody tr th:only-of-type {\n",
       "        vertical-align: middle;\n",
       "    }\n",
       "\n",
       "    .dataframe tbody tr th {\n",
       "        vertical-align: top;\n",
       "    }\n",
       "\n",
       "    .dataframe thead th {\n",
       "        text-align: right;\n",
       "    }\n",
       "<\/style>\n",
       "<table border=\"1\" class=\"dataframe\">\n",
       "  <thead>\n",
       "    <tr style=\"text-align: right;\">\n",
       "      <th><\/th>\n",
       "      <th>OrderID<\/th>\n",
       "      <th>CustomerID<\/th>\n",
       "      <th>Amount<\/th>\n",
       "      <th>Region<\/th>\n",
       "      <th>Returned<\/th>\n",
       "    <\/tr>\n",
       "  <\/thead>\n",
       "  <tbody>\n",
       "    <tr>\n",
       "      <th>0<\/th>\n",
       "      <td>1<\/td>\n",
       "      <td>1860<\/td>\n",
       "      <td>233.0<\/td>\n",
       "      <td>North<\/td>\n",
       "      <td>False<\/td>\n",
       "    <\/tr>\n",
       "    <tr>\n",
       "      <th>1<\/th>\n",
       "      <td>2<\/td>\n",
       "      <td>4772<\/td>\n",
       "      <td>164.0<\/td>\n",
       "      <td>North<\/td>\n",
       "      <td>False<\/td>\n",
       "    <\/tr>\n",
       "    <tr>\n",
       "      <th>2<\/th>\n",
       "      <td>3<\/td>\n",
       "      <td>4092<\/td>\n",
       "      <td>229.0<\/td>\n",
       "      <td>West<\/td>\n",
       "      <td>False<\/td>\n",
       "    <\/tr>\n",
       "    <tr>\n",
       "      <th>3<\/th>\n",
       "      <td>4<\/td>\n",
       "      <td>1466<\/td>\n",
       "      <td>180.0<\/td>\n",
       "      <td>West<\/td>\n",
       "      <td>False<\/td>\n",
       "    <\/tr>\n",
       "    <tr>\n",
       "      <th>4<\/th>\n",
       "      <td>5<\/td>\n",
       "      <td>5426<\/td>\n",
       "      <td>177.0<\/td>\n",
       "      <td>West<\/td>\n",
       "      <td>False<\/td>\n",
       "    <\/tr>\n",
       "    <tr>\n",
       "      <th>5<\/th>\n",
       "      <td>6<\/td>\n",
       "      <td>4444<\/td>\n",
       "      <td>245.0<\/td>\n",
       "      <td>East<\/td>\n",
       "      <td>False<\/td>\n",
       "    <\/tr>\n",
       "    <tr>\n",
       "      <th>6<\/th>\n",
       "      <td>7<\/td>\n",
       "      <td>4171<\/td>\n",
       "      <td>245.0<\/td>\n",
       "      <td>North<\/td>\n",
       "      <td>False<\/td>\n",
       "    <\/tr>\n",
       "    <tr>\n",
       "      <th>7<\/th>\n",
       "      <td>8<\/td>\n",
       "      <td>3919<\/td>\n",
       "      <td>284.0<\/td>\n",
       "      <td>East<\/td>\n",
       "      <td>False<\/td>\n",
       "    <\/tr>\n",
       "    <tr>\n",
       "      <th>8<\/th>\n",
       "      <td>9<\/td>\n",
       "      <td>1130<\/td>\n",
       "      <td>281.0<\/td>\n",
       "      <td>North<\/td>\n",
       "      <td>False<\/td>\n",
       "    <\/tr>\n",
       "    <tr>\n",
       "      <th>9<\/th>\n",
       "      <td>10<\/td>\n",
       "      <td>2685<\/td>\n",
       "      <td>246.0<\/td>\n",
       "      <td>North<\/td>\n",
       "      <td>False<\/td>\n",
       "    <\/tr>\n",
       "    <tr>\n",
       "      <th>10<\/th>\n",
       "      <td>11<\/td>\n",
       "      <td>1769<\/td>\n",
       "      <td>114.0<\/td>\n",
       "      <td>South<\/td>\n",
       "      <td>False<\/td>\n",
       "    <\/tr>\n",
       "    <tr>\n",
       "      <th>11<\/th>\n",
       "      <td>12<\/td>\n",
       "      <td>3391<\/td>\n",
       "      <td>291.0<\/td>\n",
       "      <td>North<\/td>\n",
       "      <td>False<\/td>\n",
       "    <\/tr>\n",
       "  <\/tbody>\n",
       "<\/table>\n",
       "<\/div>"
      ]
     },
     "metadata":{},
     "output_type":"display_data"
    }
   ],
   "metadata":{
    "datalore":{
     "node_id":"wU81L69G5LW0W6htEL7095",
     "type":"CODE",
     "hide_input_from_viewers":true,
     "hide_output_from_viewers":true
    }
   }
  },
  {
   "cell_type":"code",
   "source":[
    "print(f\"rozmiar danych: {df.shape}\")"
   ],
   "execution_count":6,
   "outputs":[
    {
     "name":"stdout",
     "text":[
      "rozmiar danych: (5000, 5)\n"
     ],
     "output_type":"stream"
    }
   ],
   "metadata":{
    "datalore":{
     "node_id":"LS7FGdgLU2umbvIv54Z38c",
     "type":"CODE",
     "hide_input_from_viewers":true,
     "hide_output_from_viewers":true
    }
   }
  },
  {
   "cell_type":"markdown",
   "source":[
    "# Prosta analiza danych"
   ],
   "attachments":{},
   "metadata":{
    "datalore":{
     "node_id":"eazJF4kknwCqVnzTHJqvFG",
     "type":"MD",
     "hide_input_from_viewers":true,
     "hide_output_from_viewers":true
    }
   }
  },
  {
   "cell_type":"code",
   "source":[
    "print(f\"\\nśredni przychód: {df['Amount'].mean():.2f}\")\n",
    "print(f\"\\nLiczba zwrotów: {df['Returned'].sum():.2f}\")"
   ],
   "execution_count":9,
   "outputs":[
    {
     "name":"stdout",
     "text":[
      "\n",
      "średni przychód: 198.78\n",
      "\n",
      "Liczba zwrotów: 526.00\n"
     ],
     "output_type":"stream"
    }
   ],
   "metadata":{
    "datalore":{
     "node_id":"TFHIwKe6onBn7MxAee2LFe",
     "type":"CODE",
     "hide_input_from_viewers":true,
     "hide_output_from_viewers":true
    }
   }
  },
  {
   "cell_type":"code",
   "source":[
    "#grupowanie po regionie\n",
    "regions_stats = df.groupby(\"Region\")[\"Amount\"].agg([\"count\",\"mean\",\"sum\"])\n",
    "print(f\"Statystyki wg. regionu\\n{regions_stats}\")"
   ],
   "execution_count":10,
   "outputs":[
    {
     "name":"stdout",
     "text":[
      "Statystyki wg. regionu\n",
      "        count        mean       sum\n",
      "Region                             \n",
      "East     1277  197.712608  252479.0\n",
      "North    1239  197.555287  244771.0\n",
      "South    1253  200.002394  250603.0\n",
      "West     1231  199.891145  246066.0\n"
     ],
     "output_type":"stream"
    }
   ],
   "metadata":{
    "datalore":{
     "node_id":"CwJVcnlPurXR8xRGmKj7SD",
     "type":"CODE",
     "hide_input_from_viewers":true,
     "hide_output_from_viewers":true
    }
   }
  },
  {
   "cell_type":"code",
   "source":[
    "#filtrowanie danych\n",
    "high_value = df[df[\"Amount\"]>300]\n",
    "print(f\"\\nTransakcje powyżej 300 zł: {high_value.shape[0]}\")"
   ],
   "execution_count":11,
   "outputs":[
    {
     "name":"stdout",
     "text":[
      "\n",
      "Transakcje powyżej 300 zł: 113\n"
     ],
     "output_type":"stream"
    }
   ],
   "metadata":{
    "datalore":{
     "node_id":"dbGS0M30DU0o9TwK4zYIpD",
     "type":"CODE",
     "hide_input_from_viewers":true,
     "hide_output_from_viewers":true
    }
   }
  },
  {
   "cell_type":"code",
   "source":[
    "#Histogram \n",
    "import matplotlib.pyplot as plt\n",
    "\n",
    "df[\"Amount\"].hist(bins=30)\n",
    "plt.xlabel(\"Kwota\")\n",
    "plt.ylabel(\"Liczba\")\n",
    "plt.show()"
   ],
   "execution_count":12,
   "outputs":[
    {
     "data":{
      "image\/png":"[encoded data removed]"
     },
     "metadata":{
      "image\/png":{}
     },
     "output_type":"display_data"
    }
   ],
   "metadata":{
    "datalore":{
     "node_id":"ot9N5jG2x838vCDGVaAFhJ",
     "type":"CODE",
     "hide_input_from_viewers":true,
     "hide_output_from_viewers":true
    }
   }
  }
 ],
 "metadata":{
  "kernelspec":{
   "display_name":"Python",
   "language":"python",
   "name":"python"
  },
  "datalore":{
   "computation_mode":"JUPYTER",
   "package_manager":"pip",
   "base_environment":"default_3_11",
   "packages":[],
   "report_row_ids":[],
   "report_tabs":[],
   "version":4
  }
 },
 "nbformat":4,
 "nbformat_minor":4
}